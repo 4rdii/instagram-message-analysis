{
 "cells": [
  {
   "cell_type": "markdown",
   "metadata": {},
   "source": [
    "IMPORTING LIBRARIES"
   ]
  },
  {
   "cell_type": "code",
   "execution_count": 5,
   "metadata": {},
   "outputs": [],
   "source": [
    "import pandas as pd\n",
    "import numpy\n",
    "import json\n",
    "import os\n",
    "import csv\n",
    "import codecs\n",
    "import datetime as dt\n",
    "from matplotlib import pyplot as plt\n",
    "\n"
   ]
  },
  {
   "cell_type": "markdown",
   "metadata": {},
   "source": [
    "JSON TEMPLATE OF INSTAGRAM MESSAGES "
   ]
  },
  {
   "cell_type": "code",
   "execution_count": 6,
   "metadata": {},
   "outputs": [],
   "source": [
    "### json template of instagram messages\n",
    "# \"\"\"\n",
    "# \"participants\": [\n",
    "#     {\n",
    "#       \"name\": \"______amjad\"\n",
    "#     },\n",
    "#     {\n",
    "#       \"name\": \"Salwa Design | \\u00d8\\u00b3\\u00d9\\u0084\\u00d9\\u0088\\u00d9\\u008a \\u00d8\\u00af\\u00db\\u008c\\u00d8\\u00b2\\u00d8\\u00a7\\u00db\\u008c\\u00d9\\u0086\"\n",
    "#     }\n",
    "#   ],\n",
    "#   \"messages\": [\n",
    "\n",
    "#     {\n",
    "#       \"sender_name\": \"Salwa Design | \\u00d8\\u00b3\\u00d9\\u0084\\u00d9\\u0088\\u00d9\\u008a \\u00d8\\u00af\\u00db\\u008c\\u00d8\\u00b2\\u00d8\\u00a7\\u00db\\u008c\\u00d9\\u0086\",\n",
    "#       \"timestamp_ms\": 1705392963364,\n",
    "#       \"content\": \"\\u00f0\\u009f\\u008e\\u0081\\u00e2\\u0099\\u00a5\\u00ef\\u00b8\\u008f \\u00d9\\u0084\\u00d8\\u00a7 \\u00d8\\u00aa\\u00d9\\u0081\\u00d9\\u0088\\u00d8\\u00aa\\u00d9\\u0083\\u00d9\\u0085 \\u00d8\\u00b9\\u00d8\\u00b1\\u00d9\\u0088\\u00d8\\u00b6\\u00d8\\u00a7\\u00d8\\u00aa \\u00d8\\u00b3\\u00d9\\u0084\\u00d9\\u0088\\u00d9\\u008a \\u00d8\\u00af\\u00d9\\u008a\\u00d8\\u00b2\\u00d8\\u00a7\\u00d9\\u008a\\u00d9\\u0086 \\u00d8\\u00a8\\u00d9\\u0085\\u00d9\\u0086\\u00d8\\u00a7\\u00d8\\u00b3\\u00d8\\u00a8\\u00d8\\u00a9 Valentine's \\u00e2\\u0099\\u00a5\\u00ef\\u00b8\\u008f\\u00f0\\u009f\\u008e\\u0081\\n\\n\\n\\u00d8\\u00a7\\u00d9\\u0087\\u00d9\\u0084\\u00d8\\u00a7 \\u00d8\\u00a8\\u00d9\\u0083 \\u00f0\\u009f\\u0092\\u009b\\n\\n\\u00d8\\u00a7\\u00d9\\u0086\\u00d9\\u0087\\u00d8\\u00a7 \\u00d9\\u0084\\u00d9\\u0088\\u00d8\\u00ad\\u00d8\\u00a7\\u00d8\\u00aa \\u00d9\\u0085\\u00d9\\u0086\\u00d8\\u00b3\\u00d9\\u0088\\u00d8\\u00ac\\u00d8\\u00a9 \\u00d9\\u008a\\u00d8\\u00af\\u00d9\\u0088\\u00d9\\u008a\\u00d8\\u00a7 \\u00d9\\u0085\\u00d8\\u00b9 \\u00d8\\u00aa\\u00d9\\u0081\\u00d8\\u00a7\\u00d8\\u00b5\\u00d9\\u008a\\u00d9\\u0084 \\u00d8\\u00a3\\u00d9\\u0086\\u00d9\\u008a\\u00d9\\u0082\\u00d8\\u00a9 \\u00d8\\u00b5\\u00d8\\u00a7\\u00d8\\u00ba\\u00d9\\u0087\\u00d8\\u00a7 \\u00d9\\u0081\\u00d9\\u0086\\u00d8\\u00a7\\u00d9\\u0086\\u00d9\\u0088\\u00d9\\u0086 \\u00d9\\u0085\\u00d8\\u00ad\\u00d8\\u00aa\\u00d8\\u00b1\\u00d9\\u0081\\u00d9\\u0088\\u00d9\\u0086 \\u00d8\\u008c \\u00d9\\u0085\\u00d9\\u0085\\u00d8\\u00a7 \\u00d9\\u008a\\u00d8\\u00ac\\u00d8\\u00b9\\u00d9\\u0084 \\u00d8\\u00a7\\u00d9\\u0084\\u00d8\\u00a7\\u00d9\\u0086\\u00d8\\u00b3\\u00d8\\u00ac\\u00d8\\u00a7\\u00d9\\u0085 \\u00d8\\u00a7\\u00d9\\u0084\\u00d8\\u00b1\\u00d8\\u00a7\\u00d8\\u00a6\\u00d8\\u00b9 \\u00d9\\u0084\\u00d8\\u00af\\u00d9\\u008a\\u00d9\\u0083\\u00d9\\u0088\\u00d8\\u00b1 \\u00d8\\u00a7\\u00d9\\u0084\\u00d9\\u0085\\u00d9\\u0086\\u00d8\\u00b2\\u00d9\\u0084 \\u00d9\\u0088\\u00d8\\u00a7\\u00d9\\u0084\\u00d9\\u0085\\u00d9\\u0083\\u00d8\\u00aa\\u00d8\\u00a8. \\u00f0\\u009f\\u00a7\\u00b5\\n\\u00d9\\u0087\\u00d8\\u00af\\u00d9\\u008a\\u00d8\\u00a9 \\u00d8\\u00a5\\u00d8\\u00a8\\u00d8\\u00af\\u00d8\\u00a7\\u00d8\\u00b9\\u00d9\\u008a\\u00d8\\u00a9 \\u00d9\\u0085\\u00d9\\u0085\\u00d9\\u008a\\u00d8\\u00b2\\u00d8\\u00a9 \\u00d8\\u00ac\\u00d8\\u00af\\u00d8\\u00a7\\u00d9\\u008b \\n\\u00d9\\u0086\\u00d8\\u00b8\\u00d8\\u00b1\\u00d9\\u008b\\u00d8\\u00a7 \\u00d9\\u0084\\u00d8\\u00a3\\u00d9\\u0086\\u00d9\\u0087\\u00d8\\u00a7 \\u00d9\\u0087\\u00d8\\u00af\\u00d9\\u008a\\u00d8\\u00a9 \\u00d8\\u00b1\\u00d8\\u00a7\\u00d8\\u00a6\\u00d8\\u00b9\\u00d8\\u00a9 \\u00d8\\u008c \\u00d9\\u0085\\u00d8\\u00a7 \\u00d8\\u00b9\\u00d9\\u0084\\u00d9\\u008a\\u00d9\\u0083 \\u00d8\\u00b3\\u00d9\\u0088\\u00d9\\u0089 \\u00d8\\u00a5\\u00d8\\u00b1\\u00d8\\u00b3\\u00d8\\u00a7\\u00d9\\u0084 \\u00d8\\u00b5\\u00d9\\u0088\\u00d8\\u00b1\\u00d8\\u00a9 \\u00d9\\u0085\\u00d9\\u0081\\u00d8\\u00b6\\u00d9\\u0084\\u00d8\\u00a9 \\u00d9\\u0084\\u00d9\\u0088\\u00d8\\u00ac\\u00d9\\u0087\\u00d9\\u0083 \\u00d8\\u008c \\u00d8\\u00ab\\u00d9\\u0085 \\u00d8\\u00b3\\u00d9\\u008a\\u00d8\\u00aa\\u00d9\\u0085 \\u00d9\\u0086\\u00d8\\u00b3\\u00d8\\u00ac\\u00d9\\u0087\\u00d8\\u00a7 \\u00d9\\u008a\\u00d8\\u00af\\u00d9\\u0088\\u00d9\\u008a\\u00d9\\u008b\\u00d8\\u00a7 \\u00d8\\u00a8\\u00d8\\u00ae\\u00d9\\u008a\\u00d8\\u00b7 \\u00d9\\u0088\\u00d8\\u00a7\\u00d8\\u00ad\\u00d8\\u00af \\u00d8\\u00a8\\u00d8\\u00b7\\u00d9\\u0088\\u00d9\\u0084 5 \\u00d9\\u0083\\u00d9\\u008a\\u00d9\\u0084\\u00d9\\u0088\\u00d9\\u0085\\u00d8\\u00aa\\u00d8\\u00b1\\u00d8\\u00a7\\u00d8\\u00aa.\\n\\u00f0\\u009f\\u009f\\u00a1\\u00d9\\u0085\\u00d8\\u00b9 \\u00d8\\u00b4\\u00d8\\u00ad\\u00d9\\u0086 \\u00d9\\u0085\\u00d8\\u00ac\\u00d8\\u00a7\\u00d9\\u0086\\u00d9\\u008a \\u00e2\\u009c\\u0088\\u00ef\\u00b8\\u008f\\u00f0\\u009f\\u0086\\u0093\\n\\n\\u00d9\\u008a\\u00d9\\u0085\\u00d9\\u0083\\u00d9\\u0086\\u00d9\\u0083 \\u00d8\\u00a7\\u00d9\\u0084\\u00d8\\u00ad\\u00d8\\u00b5\\u00d9\\u0088\\u00d9\\u0084 \\u00d8\\u00b9\\u00d9\\u0084\\u00d9\\u0089 \\u00d9\\u0085\\u00d9\\u0082\\u00d8\\u00b7\\u00d8\\u00b9 \\u00d9\\u0081\\u00d9\\u008a\\u00d8\\u00af\\u00d9\\u008a\\u00d9\\u0088 \\u00d9\\u0084\\u00d9\\u0081\\u00d8\\u00aa\\u00d8\\u00b1\\u00d8\\u00a7\\u00d8\\u00aa \\u00d8\\u00b2\\u00d9\\u0085\\u00d9\\u0086\\u00d9\\u008a\\u00d8\\u00a9 \\u00d9\\u0084\\u00d8\\u00b5\\u00d9\\u0086\\u00d8\\u00b9 \\u00d9\\u0081\\u00d9\\u0086 \\u00d8\\u00a7\\u00d9\\u0084\\u00d8\\u00b3\\u00d9\\u0084\\u00d8\\u00b3\\u00d9\\u0084\\u00d8\\u00a9 \\n\\u00d8\\u00a7\\u00d9\\u0084\\u00d8\\u00ae\\u00d8\\u00a7\\u00d8\\u00b5 \\u00d8\\u00a8\\u00d9\\u0083\\u00f0\\u009f\\u0098\\u008d\\u00f0\\u009f\\u008e\\u00a5\\n\\u00d9\\u0085\\u00d9\\u0086 \\u00d8\\u00ae\\u00d9\\u0084\\u00d8\\u00a7\\u00d9\\u0084 \\u00d8\\u00a7\\u00d8\\u00ae\\u00d8\\u00aa\\u00d9\\u008a\\u00d8\\u00a7\\u00d8\\u00b1 Tabby\\u00d8\\u00b9\\u00d9\\u0086\\u00d8\\u00af \\u00d8\\u00a7\\u00d9\\u0084\\u00d8\\u00af\\u00d9\\u0081\\u00d8\\u00b9\\u00d8\\u008c \\u00db\\u008c\\u00d9\\u0085\\u00da\\u00a9\\u00d9\\u0086\\u00d9\\u0083 \\u00d8\\u00a3\\u00d9\\u0086 \\u00d8\\u00aa\\u00d8\\u00aa\\u00d8\\u00b3\\u00d9\\u0088\\u00d9\\u0082 \\u00d8\\u00a7\\u00d9\\u0084\\u00d8\\u00a2\\u00d9\\u0086 \\u00d9\\u0088 \\u00d8\\u00aa\\u00d8\\u00af\\u00d9\\u0081\\u00d8\\u00b9 \\u00d9\\u0084\\u00d8\\u00a7\\u00d8\\u00ad\\u00d9\\u0082\\u00d9\\u008b\\u00d8\\u00a7 \\u00d8\\u00b9\\u00d9\\u0084\\u00d9\\u0089 4 \\u00d8\\u00a3\\u00d9\\u0082\\u00d8\\u00b3\\u00d8\\u00a7\\u00d8\\u00b7 \\u00d8\\u00a8\\u00d8\\u00af\\u00d9\\u0088\\u00d9\\u0086 \\u00d9\\u0081\\u00d9\\u0088\\u00d8\\u00a7\\u00d8\\u00a6\\u00d8\\u00af \\u00d8\\u00b9\\u00d9\\u0086\\u00d8\\u00af \\u00d8\\u00a7\\u00d9\\u0084\\u00d8\\u00af\\u00d9\\u0081\\u00d8\\u00b9 \\u00f0\\u009f\\u0098\\u008d*\",\n",
    "#       \"is_geoblocked_for_viewer\": false\n",
    "#     },\n",
    "#     {\n",
    "#       \"sender_name\": \"Salwa Design | \\u00d8\\u00b3\\u00d9\\u0084\\u00d9\\u0088\\u00d9\\u008a \\u00d8\\u00af\\u00db\\u008c\\u00d8\\u00b2\\u00d8\\u00a7\\u00db\\u008c\\u00d9\\u0086\",\n",
    "#       \"timestamp_ms\": 1705392085004,\n",
    "#       \"content\": \"______amjad replied to an Ad. See post(https://www.instagram.com/p/C1KtYG-tnqO/)\",\n",
    "#       \"is_geoblocked_for_viewer\": false\n",
    "#     },\n",
    "#   ],\n",
    "#   \"title\": \"______amjad\",\n",
    "#   \"is_still_participant\": true,\n",
    "#   \"thread_path\": \"inbox/______amjad_1312630076798892\",\n",
    "#   \"magic_words\": [\n",
    "\n",
    "#   ]\n",
    "# }\n",
    "# \"\"\""
   ]
  },
  {
   "cell_type": "markdown",
   "metadata": {},
   "source": [
    "Defining variables"
   ]
  },
  {
   "cell_type": "code",
   "execution_count": 7,
   "metadata": {},
   "outputs": [],
   "source": [
    "INBOX_DIRECTORY_ADDRESS = \"your_instagram_activity/messages/inbox\"\n",
    "listOfCountries = [\"العراق\", \"الكويت\", \"الأردن\", \"السعودية\", \"الإمارات العربية المتحدة\", \n",
    "                   \"البحرين\", \"الأردن\", \"اللبنان\", \"مصر\", \"السودان\", \"الجزائر\", \"موريتانيا\",\n",
    "                     \"العمان\", \"القطر\", \"اليمن\",\"الامارات\",\"عراق\", \"كويت\", \"أردن\", \"سعودية\",\n",
    "                       \"إمارات العربية المتحدة\", \"بحرين\", \"أردن\", \"لبنان\", \"مصر\", \"سودان\", \n",
    "                       \"جزائر\", \"موريتانيا\", \"عمان\", \"قطر\", \"يمن\",\"السعوديه\",\"سعوديه\"]\n",
    "\n",
    "chatDataFrame = pd.DataFrame(\n",
    "    columns=[\n",
    "        \"Customer ID\",\n",
    "        \"Number of Salwa Messages\",\n",
    "        \"Salwa Messages\",\n",
    "        \"Number of Customer Messages\",\n",
    "        \"Customer Messages\",\n",
    "        \"Did We audio call?\",\n",
    "        \"country\",\n",
    "        \"timestamp of first message\",\n",
    "        \"timestamp of last message\",\n",
    "        \"firstResponseTime\",\n",
    "        \"inboxFolderPath\",\n",
    "        \"messageChain\",\n",
    "        \"messageDateTime\",\n",
    "        \"messageTimeDiffrense\",\n",
    "        \"messageSenderName\",\n",
    "    ]\n",
    ")\n",
    "welocmeMessageOne = []\n",
    "welcomeMessageTwo = []\n",
    "priceMessage = []\n",
    "listOfFolders = os.listdir(INBOX_DIRECTORY_ADDRESS)"
   ]
  },
  {
   "cell_type": "markdown",
   "metadata": {},
   "source": [
    "Calculating needed parameters and save it to exel"
   ]
  },
  {
   "cell_type": "code",
   "execution_count": 8,
   "metadata": {},
   "outputs": [
    {
     "name": "stderr",
     "output_type": "stream",
     "text": [
      "C:\\Users\\BATTLEBOX\\AppData\\Local\\Temp\\ipykernel_25848\\744082126.py:125: FutureWarning: The behavior of DataFrame concatenation with empty or all-NA entries is deprecated. In a future version, this will no longer exclude empty or all-NA columns when determining the result dtypes. To retain the old behavior, exclude the relevant entries before the concat operation.\n",
      "  chatDataFrame = pd.concat(\n"
     ]
    }
   ],
   "source": [
    "\n",
    "for i in listOfFolders:\n",
    "    with open(f\"{INBOX_DIRECTORY_ADDRESS}/{i}/message_1.json\") as f:\n",
    "        ###defining variables and dummies \n",
    "        data = json.load(f)\n",
    "        customerId = data[\"participants\"][0][\"name\"].encode(\"latin1\").decode(\"utf-8\")\n",
    "        numberOfSalwaMessages = 0\n",
    "        numberOfCustomerMessages = 0\n",
    "        salwaMessages = []\n",
    "        customerMessages = []\n",
    "        messageChain = []\n",
    "        messageDateTime = []\n",
    "        messageTimeDiffrense = [0]\n",
    "        messageTimeStamp = []\n",
    "        messageSenderName = []\n",
    "        audioCallDummy = 0\n",
    "        \n",
    "        countryMentionedInChat = \"not mentioned\"\n",
    "\n",
    "        ### set timstamps and convert to date \n",
    "        timestamp = int(data[\"messages\"][0][\"timestamp_ms\"]) / 1000\n",
    "        timestampOfFirstMessage = dt.datetime.fromtimestamp(timestamp).strftime(\n",
    "            \"%Y-%m-%d\"\n",
    "        )\n",
    "        timestamp = int(data[\"messages\"][-1][\"timestamp_ms\"]) / 1000\n",
    "        timestampOfLasttMessage = dt.datetime.fromtimestamp(timestamp).strftime(\n",
    "            \"%Y-%m-%d\"\n",
    "        )\n",
    "\n",
    "        ### read messages and analyze\n",
    "        for message in data[\"messages\"]:\n",
    "\n",
    "            messageSender = message[\"sender_name\"].encode(\"latin1\").decode(\"utf-8\")\n",
    "            ## calculate time diffrense between messages\n",
    "            msgTimeStamp = int(message[\"timestamp_ms\"]) / 1000\n",
    "            dateTime = dt.datetime.fromtimestamp(msgTimeStamp).strftime(\"%Y-%m-%d %H:%M:%S\")\n",
    "            messageDateTime.append(dateTime) \n",
    "            messageTimeStamp.append(msgTimeStamp)\n",
    "\n",
    "            try:\n",
    "                messageContent = message[\"content\"].encode(\"latin1\").decode(\"utf-8\")\n",
    "            except KeyError:\n",
    "                # print(f\"remove message from inbox {i}\")\n",
    "                continue\n",
    "             \n",
    "            #moneyMentionedCondition = \"ریال\" in messageContent or \"دینار\" in messageContent or \"درهم\" in messageContent or \"SAR 🇸🇦\" in messageContent or  \"AED\" in messageContent  or \"QAR\" in messageContent\n",
    "            moneyMentionedCondition =  \"أبيض و اسود\" in messageContent or \"(أبيض وأسود)\" in messageContent\n",
    "            if moneyMentionedCondition:\n",
    "                if messageContent in priceMessage:\n",
    "                    pass\n",
    "                else:\n",
    "                    priceMessage.append(messageContent)\n",
    "                messageContent = \"Price Message\"\n",
    "\n",
    "            if \"يرجى إخبارنا ببلدك لمعرفة مدة الشحن و الاسعار في عملتكم 👇💛\" in messageContent:\n",
    "                if messageContent in welcomeMessageTwo:\n",
    "                    pass\n",
    "                else:\n",
    "                    welcomeMessageTwo.append(messageContent)\n",
    "                messageContent = \"Welcome and ask about location message2.\"\n",
    "\n",
    "            if \"لوحات منسوجة يدويا مع تفاصيل\" in messageContent or \"Please tell us your country for more info and price details\" in messageContent:    \n",
    "                if messageContent in welocmeMessageOne:\n",
    "                    pass\n",
    "                else:\n",
    "                    welocmeMessageOne.append(messageContent)\n",
    "                messageContent = \"Welcome and ask about location message1.\"\n",
    "       \n",
    "\n",
    "            ### check for phone call\n",
    "            if \"started an audio call\" in messageContent:\n",
    "                audioCallDummy = 1\n",
    "\n",
    "\n",
    "            ### check if they responeded with country name\n",
    "            for country in listOfCountries:\n",
    "                if country in messageContent:\n",
    "                    countryMentionedInChat = country\n",
    "                    break\n",
    "\n",
    "\n",
    "            #### append messages to list of messages \n",
    "            if messageSender.startswith(\"Salwa\"):\n",
    "                messageChain.append(f\"{numberOfSalwaMessages+numberOfCustomerMessages}-Salwa:\"+messageContent)\n",
    "                numberOfSalwaMessages += 1\n",
    "                messageSenderName.append(\"Salwa\")\n",
    "                salwaMessages.append(messageContent)\n",
    "            else:\n",
    "                messageChain.append(f\"{numberOfSalwaMessages+numberOfCustomerMessages}-customer:\"+messageContent)\n",
    "                numberOfCustomerMessages += 1\n",
    "                messageSenderName.append( \"Customer\")\n",
    "                customerMessages.append(messageContent)\n",
    "\n",
    "        ### calculate response times\n",
    "        for counter in range(len(messageTimeStamp)-1):\n",
    "            j = len(messageTimeStamp) \n",
    "            diff = messageTimeStamp[counter+1] - messageTimeStamp[counter]\n",
    "            messageTimeDiffrense.append(-diff/60)\n",
    "\n",
    "        ### first response time \n",
    "        length = len(messageSenderName)\n",
    "        for i in range(len(messageSenderName)):\n",
    "            if messageSenderName[length-1-i] == \"Salwa\":\n",
    "                firstResponseTime = sum(messageTimeDiffrense[length-i:])\n",
    "                break    \n",
    "                    \n",
    "        appendableDataRow = {\n",
    "            \"Customer ID\": customerId,\n",
    "            \"Number of Salwa Messages\": numberOfSalwaMessages,\n",
    "            \"Salwa Messages\": salwaMessages,\n",
    "            \"Number of Customer Messages\": numberOfCustomerMessages,\n",
    "            \"Customer Messages\": customerMessages,\n",
    "            \"Did We audio call?\": audioCallDummy,\n",
    "            \"country\":countryMentionedInChat,\n",
    "            \"timestamp of first message\": timestampOfFirstMessage,\n",
    "            \"timestamp of last message\": timestampOfLasttMessage,\n",
    "            \"firstResponseTime\":firstResponseTime,\n",
    "            \"inboxFolderPath\": i,\n",
    "            \"messageChain\": messageChain,\n",
    "            \"messageDateTime\":messageDateTime,\n",
    "            \"messageTimeDiffrense\":messageTimeDiffrense,\n",
    "            \"messageSenderName\":messageSenderName,\n",
    "        }\n",
    "        rowDataFrame = pd.DataFrame([appendableDataRow])\n",
    "        # chatDataFrame = chatDataFrame.append(appendableDataRow, ignore_index=True)\n",
    "        chatDataFrame = pd.concat(\n",
    "            [chatDataFrame, rowDataFrame], ignore_index=True, axis=0\n",
    "        )\n",
    "\n",
    "chatDataFrame.to_excel(\"output.xlsx\", index=False)\n"
   ]
  },
  {
   "cell_type": "code",
   "execution_count": 9,
   "metadata": {},
   "outputs": [
    {
     "name": "stdout",
     "output_type": "stream",
     "text": [
      "🎁🎄لا تفوتكم عروضات سلوي ديزاين بمناسبة عيد رأس السنة 🎄🎁\n",
      "كل عام و انتم بخير🎇\n",
      "\n",
      "اهلا بك 💛\n",
      "\n",
      "انها لوحات منسوجة يدويا مع تفاصيل أنيقة صاغها فنانون محترفون ، مما يجعل الانسجام الرائع لديكور المنزل والمكتب. 🧵\n",
      "هدية إبداعية مميزة جداً لعيد رأس السنة 🎁🎆\n",
      "نظرًا لأنها هدية رائعة ، ما عليك سوى إرسال صورة مفضلة لوجهك ، ثم سيتم نسجها يدويًا بخيط واحد بطول 5 كيلومترات.\n",
      "🟡مع شحن مجاني ✈️🆓\n",
      "\n",
      "يمكنك الحصول على مقطع فيديو لفترات زمنية لصنع فن السلسلة \n",
      "الخاص بك😍🎥\n"
     ]
    }
   ],
   "source": [
    "print((welocmeMessageOne[0]))"
   ]
  },
  {
   "cell_type": "code",
   "execution_count": 10,
   "metadata": {},
   "outputs": [],
   "source": [
    "#clean data\n",
    "chatDataFrame['Number of Customer Messages'] = chatDataFrame['Number of Customer Messages'].astype(int)\n",
    "threshold = 10\n",
    "condition = chatDataFrame['Number of Customer Messages'] <= threshold\n",
    "chatDataFrameCleaned = chatDataFrame[condition]\n",
    "### \n",
    "underTowCondition = chatDataFrame['Number of Customer Messages'] <= 4\n",
    "chatDataFrameUnderTwoMessages = chatDataFrame[underTowCondition]\n",
    "chatDataFrameUnderTwoMessages.to_excel(\"outputlessthantwomessages.xlsx\", index=False)\n"
   ]
  },
  {
   "cell_type": "code",
   "execution_count": 11,
   "metadata": {},
   "outputs": [
    {
     "data": {
      "text/plain": [
       "Text(0, 0.5, 'Frequency')"
      ]
     },
     "execution_count": 11,
     "metadata": {},
     "output_type": "execute_result"
    },
    {
     "data": {
      "image/png": "[encoded data removed]",
      "text/plain": [
       "<Figure size 432x288 with 1 Axes>"
      ]
     },
     "metadata": {
      "needs_background": "light"
     },
     "output_type": "display_data"
    }
   ],
   "source": [
    "chatDataFrameCleaned.hist(column=\"Number of Customer Messages\",bins=10)\n",
    "\n",
    "# Set the title and axis labels\n",
    "plt.title(\"messages distribution by number of customer messages\")\n",
    "plt.xlabel(\"customer message count\")\n",
    "plt.ylabel(\"Frequency\")\n",
    "\n",
    "\n"
   ]
  },
  {
   "cell_type": "code",
   "execution_count": 12,
   "metadata": {},
   "outputs": [
    {
     "data": {
      "image/png": "[encoded data removed]",
      "text/plain": [
       "<Figure size 432x288 with 1 Axes>"
      ]
     },
     "metadata": {
      "needs_background": "light"
     },
     "output_type": "display_data"
    }
   ],
   "source": [
    "import matplotlib.dates as mdates\n",
    "\n",
    "chatDataFrame[\"timestamp of first message\"] =pd.to_datetime(chatDataFrame[\"timestamp of first message\"]) \n",
    "#chatDataFrameCleaned.hist(column=\"timestamp of first message\",bins=1)\n",
    "chatDataFrame[\"timestamp of first message\"].hist(bins=20)\n",
    "\n",
    "# Set the title and axis labels\n",
    "plt.title(\"Chat Volume\")\n",
    "plt.xlabel(\"date\")\n",
    "plt.ylabel(\"Frequency\")\n",
    "ax = plt.gca() # Get the current axes\n",
    "ax.xaxis.set_major_formatter(mdates.DateFormatter('%m-%d'))\n",
    "plt.show()\n"
   ]
  },
  {
   "cell_type": "code",
   "execution_count": 13,
   "metadata": {},
   "outputs": [
    {
     "data": {
      "image/png": "[encoded data removed]",
      "text/plain": [
       "<Figure size 432x288 with 1 Axes>"
      ]
     },
     "metadata": {
      "needs_background": "light"
     },
     "output_type": "display_data"
    }
   ],
   "source": [
    "## response time charts\n",
    "import matplotlib.pyplot as plt\n",
    "df = chatDataFrameUnderTwoMessages.copy()\n",
    "restimecondition = df['firstResponseTime'] <= 1000\n",
    "df = df[restimecondition]\n",
    "\n",
    "df.plot(x=\"timestamp of first message\",y =\"firstResponseTime\" )\n",
    "#plt.plot(pd.to_datetime(df['timestamp of first message']), df[\"firstResponseTime\"])\n",
    "plt.xlabel('Date')\n",
    "plt.ylabel('Response Time')\n",
    "plt.title('Customer Chat Response Times Over Time')\n",
    "\n",
    "ax = plt.gca() # Get the current axes\n",
    "ax.xaxis.set_major_formatter(mdates.DateFormatter('%m-%d'))\n",
    "plt.show()"
   ]
  },
  {
   "cell_type": "code",
   "execution_count": 14,
   "metadata": {},
   "outputs": [
    {
     "name": "stderr",
     "output_type": "stream",
     "text": [
      "C:\\Users\\BATTLEBOX\\AppData\\Local\\Temp\\ipykernel_25848\\3493106590.py:4: UserWarning: Boolean Series key will be reindexed to match DataFrame index.\n",
      "  df = df[restimecondition2]\n"
     ]
    },
    {
     "data": {
      "text/plain": [
       "<AxesSubplot:>"
      ]
     },
     "execution_count": 14,
     "metadata": {},
     "output_type": "execute_result"
    },
    {
     "data": {
      "image/png": "[encoded data removed]",
      "text/plain": [
       "<Figure size 432x288 with 1 Axes>"
      ]
     },
     "metadata": {
      "needs_background": "light"
     },
     "output_type": "display_data"
    }
   ],
   "source": [
    "restimecondition = df['firstResponseTime'] <= 100\n",
    "restimecondition2 = df['firstResponseTime'] > 1\n",
    "df = df[restimecondition]\n",
    "df = df[restimecondition2]\n",
    "\n",
    "\n",
    "df[\"firstResponseTime\"].hist(bins=20)\n"
   ]
  },
  {
   "cell_type": "code",
   "execution_count": 15,
   "metadata": {},
   "outputs": [
    {
     "data": {
      "image/png": "[encoded data removed]",
      "text/plain": [
       "<Figure size 432x288 with 1 Axes>"
      ]
     },
     "metadata": {
      "needs_background": "light"
     },
     "output_type": "display_data"
    }
   ],
   "source": [
    "df['firstResponseTime'].plot(kind='box')\n",
    "plt.ylabel('Response Time')\n",
    "plt.title('Box Plot of Response Times')\n",
    "plt.show()"
   ]
  }
 ],
 "metadata": {
  "kernelspec": {
   "display_name": "Python 3",
   "language": "python",
   "name": "python3"
  },
  "language_info": {
   "codemirror_mode": {
    "name": "ipython",
    "version": 3
   },
   "file_extension": ".py",
   "mimetype": "text/x-python",
   "name": "python",
   "nbconvert_exporter": "python",
   "pygments_lexer": "ipython3",
   "version": "3.9.0"
  }
 },
 "nbformat": 4,
 "nbformat_minor": 2
}
